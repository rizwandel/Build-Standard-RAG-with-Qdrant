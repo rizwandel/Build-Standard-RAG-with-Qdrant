{
 "cells": [
  {
   "cell_type": "markdown",
   "id": "2c1f1ae2",
   "metadata": {},
   "source": [
    "## Demonstration Code\n",
    "\n",
    "This Jupyter notebook demonstrates how we use the different methods of 'CARAG' the python library"
   ]
  },
  {
   "cell_type": "code",
   "execution_count": 1,
   "id": "f8fdc93c",
   "metadata": {},
   "outputs": [],
   "source": [
    "#pip install -r requirements.txt -q\n",
    "#pip install pyotp"
   ]
  },
  {
   "cell_type": "code",
   "execution_count": 2,
   "id": "06512260",
   "metadata": {},
   "outputs": [
    {
     "data": {
      "text/plain": [
       "True"
      ]
     },
     "execution_count": 2,
     "metadata": {},
     "output_type": "execute_result"
    }
   ],
   "source": [
    "import os\n",
    "import sys\n",
    "import json\n",
    "from mistralai import Mistral\n",
    "import tqdm\n",
    "from typing import Optional\n",
    "from dotenv import load_dotenv\n",
    "load_dotenv()"
   ]
  },
  {
   "cell_type": "code",
   "execution_count": 3,
   "id": "d9aa9ed1",
   "metadata": {},
   "outputs": [],
   "source": [
    "# Load environment variables\n",
    "url = os.getenv(\"url\")\n",
    "api_key = os.getenv(\"api_key\")\n",
    "mistral_api_key = str(os.getenv(\"mistral_api_key\"))\n",
    "\n",
    "if url is None:\n",
    "\tprint(\"The 'url' environment variable is not set. Please check your .env file.\")\n",
    "if api_key is None:\n",
    "\traise ValueError(\"The 'api_key' environment variable is not set. Please check your .env file.\")\n",
    "if mistral_api_key is None:\n",
    "\traise ValueError(\"The 'mistral_api_key' environment variable is not set. Please check your .env file.\")"
   ]
  },
  {
   "cell_type": "code",
   "execution_count": 5,
   "id": "1c22fafc",
   "metadata": {},
   "outputs": [],
   "source": [
    "from carag.llm_pipeline import *\n",
    "from carag.rag_pipeline import *"
   ]
  },
  {
   "cell_type": "code",
   "execution_count": 6,
   "id": "09c41404",
   "metadata": {},
   "outputs": [
    {
     "name": "stderr",
     "output_type": "stream",
     "text": [
      "Fetching 5 files: 100%|██████████| 5/5 [00:15<00:00,  3.06s/it]\n",
      "Fetching 6 files: 100%|██████████| 6/6 [01:01<00:00, 10.26s/it]\n",
      "Fetching 30 files: 100%|██████████| 30/30 [00:03<00:00,  8.52it/s]\n"
     ]
    }
   ],
   "source": [
    "collection_name=\"European_AI_Act_2004_PDF_Multi\" # my collection name\n",
    "gg = GroundGeneration(url, api_key, mistral_api_key, collection_name=collection_name)"
   ]
  },
  {
   "cell_type": "markdown",
   "id": "10095a60",
   "metadata": {},
   "source": [
    "#### Other methods"
   ]
  },
  {
   "cell_type": "code",
   "execution_count": 7,
   "id": "6835ed89",
   "metadata": {},
   "outputs": [],
   "source": [
    "text =\"hello,world!\"\n",
    "gg.add_to_cache(\"How much fines imposed by the European AI Act 2024?\",\"300,000,000 euros\")"
   ]
  },
  {
   "cell_type": "code",
   "execution_count": 8,
   "id": "96caeae3",
   "metadata": {},
   "outputs": [
    {
     "name": "stderr",
     "output_type": "stream",
     "text": [
      "Processing text chunks: 100%|██████████| 2/2 [00:02<00:00,  1.28s/it]\n"
     ]
    },
    {
     "name": "stdout",
     "output_type": "stream",
     "text": [
      "Successfully uploaded 2 chunks. Total in collection: 2\n"
     ]
    }
   ],
   "source": [
    "text_chunks = [\n",
    "    {\n",
    "        \"text\": \"The EU AI Act prohibits certain uses of artificial intelligence (AI). These include AI systems that manipulate people's decisions or exploit their vulnerabilities, systems that evaluate or classify people based on their social behavior or personal traits, and systems that predict a person's risk of committing a crime.\",\n",
    "        \"metadata\": {\"source\": \"prohibited AI practice\", \"page\": 1}\n",
    "    },\n",
    "    {\n",
    "        \"text\": \"Article 4 of the AI Act requires providers and deployers of AI systems to ensure a sufficient level of AI literacy to their staff and anyone using the systems on their behalf. The article entered into application on 2 February 2025. Several organisations have anticipated and prepared themselves\",\n",
    "        \"metadata\": {\"source\": \"Article 4\", \"page\": 2}\n",
    "    },\n",
    "]\n",
    "\n",
    "gg.upload_text_chunks(text_chunks,)"
   ]
  },
  {
   "cell_type": "code",
   "execution_count": 16,
   "id": "4fa698f6",
   "metadata": {},
   "outputs": [
    {
     "name": "stdout",
     "output_type": "stream",
     "text": [
      "{'top_results': [{'id': 'result_id_1', 'answer': \"The EU AI Act categorizes users into several distinct groups to ensure that the regulations are appropriately tailored to different stakeholders. The primary user categories include: 1. Providers: These are entities that develop and offer AI systems. They are responsible for ensuring that their AI systems comply with the Act's requirements, including risk management, transparency, and robustness. 2. Users: These are individuals or organizations that use AI systems but do not develop them. Users have obligations to use AI systems in accordance with the provider's instructions and to report any issues or non-compliance. 3. Distributors/Importers: These entities are responsible for placing AI systems on the market or putting them into service. They must ensure that the AI systems they distribute or import comply with the Act's requirements. 4. Authorized Representatives: These are entities appointed by providers to act on their behalf in relation to the obligations under the Act. 5. Notified Bodies: These are independent organizations designated by national authorities to carry out conformity assessment tasks associated with AI systems. 6. Competent Authorities: These are national authorities responsible for market surveillance and enforcement of the Act. Each of these user categories has specific roles and responsibilities under the EU AI Act, ensuring a comprehensive regulatory framework that addresses the complexities of AI development and deployment.\", 'reason': 'This result provides a comprehensive overview of the different user categories as listed by the EU AI Act, directly addressing the query. It includes detailed descriptions of each category and their responsibilities, making it highly relevant.'}, {'id': 'result_id_2', 'answer': \"The EU AI Act defines several user categories to ensure that the regulation is effectively implemented across different stakeholders. The categories include providers, users, distributors/importers, authorized representatives, notified bodies, and competent authorities. Providers are responsible for developing and offering AI systems that comply with the Act's requirements. Users must use these systems according to the providers' instructions and report any issues. Distributors and importers ensure that the AI systems they handle comply with the Act. Authorized representatives act on behalf of providers, while notified bodies perform conformity assessments. Competent authorities oversee market surveillance and enforcement. This categorization helps in assigning clear responsibilities and ensuring that all aspects of AI development and use are regulated.\", 'reason': 'This result also provides a clear and detailed explanation of the user categories under the EU AI Act. It covers all the essential categories and their roles, making it a highly relevant response to the query.'}, {'id': 'result_id_3', 'answer': \"According to the EU AI Act, there are several user categories that play different roles in the implementation of the regulation. These categories include providers, users, distributors, importers, authorized representatives, notified bodies, and competent authorities. Providers are responsible for developing AI systems that meet the Act's requirements. Users must use these systems as intended and report any non-compliance. Distributors and importers ensure that the AI systems they handle are compliant. Authorized representatives act on behalf of providers, while notified bodies conduct conformity assessments. Competent authorities are responsible for market surveillance and enforcement. This structured approach ensures that all stakeholders have clear responsibilities and that the AI systems are developed and used in a regulated manner.\", 'reason': 'This result offers a detailed breakdown of the user categories as per the EU AI Act, including the roles and responsibilities of each category. It provides a comprehensive answer to the query, making it highly relevant.'}]}\n"
     ]
    }
   ],
   "source": [
    "if query := input(\"Enter your query: \"):\n",
    "    result = gg.grounded_generation_from_llm(query)\n",
    "    print(result)"
   ]
  },
  {
   "cell_type": "code",
   "execution_count": null,
   "id": "0cd2a196",
   "metadata": {},
   "outputs": [],
   "source": []
  }
 ],
 "metadata": {
  "kernelspec": {
   "display_name": "venv",
   "language": "python",
   "name": "python3"
  },
  "language_info": {
   "codemirror_mode": {
    "name": "ipython",
    "version": 3
   },
   "file_extension": ".py",
   "mimetype": "text/x-python",
   "name": "python",
   "nbconvert_exporter": "python",
   "pygments_lexer": "ipython3",
   "version": "3.13.3"
  }
 },
 "nbformat": 4,
 "nbformat_minor": 5
}
